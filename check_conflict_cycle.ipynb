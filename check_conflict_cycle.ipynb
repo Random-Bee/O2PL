{
 "cells": [
  {
   "cell_type": "code",
   "execution_count": 55,
   "metadata": {},
   "outputs": [],
   "source": [
    "# Provide the log file and run all the cells in the notebook\n",
    "# LOG_FILE = \"O2PL-log.txt\"\n",
    "LOG_FILE = \"SS2PL-log.txt\""
   ]
  },
  {
   "cell_type": "code",
   "execution_count": 56,
   "metadata": {},
   "outputs": [
    {
     "name": "stdout",
     "output_type": "stream",
     "text": [
      "66066\n"
     ]
    },
    {
     "data": {
      "text/plain": [
       "'Transaction 1994 commits at time 1745172198082192'"
      ]
     },
     "execution_count": 56,
     "metadata": {},
     "output_type": "execute_result"
    }
   ],
   "source": [
    "# Read the log file\n",
    "with open(LOG_FILE, \"r\") as f:\n",
    "    lines = f.readlines()\n",
    "    lines = [line.rstrip('\\n') for line in lines]\n",
    "\n",
    "print(len(lines))\n",
    "lines[-1]"
   ]
  },
  {
   "cell_type": "code",
   "execution_count": 57,
   "metadata": {},
   "outputs": [
    {
     "name": "stdout",
     "output_type": "stream",
     "text": [
      "64066\n"
     ]
    },
    {
     "data": {
      "text/plain": [
       "{'trans_id': 0, 'op': 'r', 'x': 668, 'tm': 1745172180460316}"
      ]
     },
     "execution_count": 57,
     "metadata": {},
     "output_type": "execute_result"
    }
   ],
   "source": [
    "operations = []\n",
    "\n",
    "for line in lines:\n",
    "    words = line.split()\n",
    "    trans_id = int(words[1])\n",
    "    if words[2] == 'reads':\n",
    "        op = 'r'\n",
    "        tm = int(words[7])\n",
    "    elif words[2] == 'writes':\n",
    "        op = 'w'\n",
    "        tm = int(words[7])\n",
    "    elif words[2] == 'commits':\n",
    "        continue\n",
    "    else:\n",
    "        raise Exception(\"Unknown operation\")\n",
    "    operations.append({\n",
    "        \"trans_id\": trans_id,\n",
    "        \"op\": op,\n",
    "        \"x\": -1 if (op != 'w' and op != 'r') else int(words[4]),\n",
    "        \"tm\": int(words[7])\n",
    "    })\n",
    "\n",
    "# Sort operations according to time\n",
    "operations = sorted(operations, key=lambda x: x['tm'])\n",
    "\n",
    "print(len(operations))\n",
    "operations[0]"
   ]
  },
  {
   "cell_type": "code",
   "execution_count": 58,
   "metadata": {},
   "outputs": [],
   "source": [
    "# Build directed graph\n",
    "\n",
    "read_set = dict() # [int, set]\n",
    "write_set = dict() # [int, set]\n",
    "\n",
    "adj = dict() # [int, set]\n",
    "\n",
    "for oper in operations:\n",
    "    tr_id = oper['trans_id']\n",
    "\n",
    "    if tr_id not in adj:\n",
    "        adj[tr_id] = set()\n",
    "\n",
    "    x = oper['x']\n",
    "\n",
    "    if x != -1:\n",
    "        if x not in write_set:\n",
    "            write_set[x] = set()\n",
    "        if x not in read_set:\n",
    "            read_set[x] = set()\n",
    "\n",
    "    op = oper['op']\n",
    "\n",
    "    if op == 'r':\n",
    "        # Add conflict edges\n",
    "        for t in write_set[x]:\n",
    "            if t != tr_id: adj[t].add((tr_id, x))\n",
    "\n",
    "        read_set[x].add(tr_id)\n",
    "\n",
    "    elif op == 'w':\n",
    "        # Add conflict edges\n",
    "        for t in write_set[x]:\n",
    "            if t != tr_id: adj[t].add((tr_id, x))\n",
    "\n",
    "        for t in read_set[x]:\n",
    "            if t != tr_id: adj[t].add((tr_id, x))\n",
    "\n",
    "        write_set[x].add(tr_id)"
   ]
  },
  {
   "cell_type": "code",
   "execution_count": 59,
   "metadata": {},
   "outputs": [
    {
     "name": "stdout",
     "output_type": "stream",
     "text": [
      "0 {(864, 6792), (1870, 0), (1993, 534), (1394, 9346), (818, 534), (1798, 6711), (158, 76), (1238, 470), (26, 7556), (637, 345), (846, 345), (734, 3835), (1535, 5327), (1194, 534), (1982, 668), (1372, 3835), (45, 1315), (320, 3835), (1838, 9346), (144, 0), (91, 1315), (1107, 9346), (878, 9346), (1647, 76), (540, 76), (1068, 5327), (1920, 668), (1236, 6711), (850, 1315), (1837, 7556), (1622, 5297), (1996, 9346), (231, 345), (905, 0), (1191, 3835), (790, 5327), (1081, 6788), (1329, 6792), (80, 6711), (609, 9346), (1662, 470), (636, 0), (1173, 345), (1611, 3835), (1598, 0), (1499, 6788), (1369, 6788), (1321, 6711), (374, 0), (1415, 668), (151, 5297), (1985, 76), (185, 6711), (1604, 345), (1153, 0), (897, 6792)}\n",
      "1 {(502, 3547), (1644, 5793), (80, 5352), (671, 3663), (1986, 3695), (145, 3663), (1049, 7157), (1305, 740), (1017, 3547), (215, 4121), (327, 5793), (1431, 3619), (1453, 3619), (433, 8395), (1090, 1471), (382, 8621), (1542, 8395), (1879, 3547), (699, 8395), (786, 3695), (847, 740), (221, 7157), (1004, 5861), (291, 5861), (1722, 4362), (351, 8621), (1928, 1471), (1741, 1471), (1132, 5793), (695, 4400), (1291, 740), (1842, 5352), (1205, 740), (1482, 8621), (1073, 740), (1864, 4964), (851, 5352), (294, 4861), (633, 5352), (1639, 4400), (1587, 7157), (532, 4400), (391, 4400), (1628, 3695), (533, 8395), (1593, 5861), (1815, 1471), (1935, 3663), (831, 4861), (1298, 4964), (764, 4121)}\n",
      "60 {(1532, 9585), (1434, 5385), (709, 4334), (1842, 9848), (1138, 3556), (1303, 5396), (270, 9848), (629, 5775), (799, 9087), (688, 5775), (129, 5775), (1699, 4334), (1340, 6400), (1788, 5385), (592, 3556), (1917, 2018), (1189, 6979), (448, 6400), (844, 9848), (1568, 9848), (648, 9848), (1612, 6343), (919, 1699), (693, 3556), (1363, 9848), (498, 9848), (1628, 7150), (256, 5058), (1050, 6343), (1597, 3518), (1237, 5385), (188, 6400), (1878, 5775), (1314, 9629), (443, 9848), (959, 2018), (941, 9087), (133, 5396), (1257, 4839), (1347, 3518), (1644, 9629), (1221, 5058), (89, 5396), (1413, 6343), (353, 5396), (1893, 5775), (1969, 7311), (612, 5058), (174, 5775), (1836, 4334), (881, 6400), (338, 9087), (617, 1759), (1392, 7311), (1492, 1699), (1010, 5775), (1025, 3518), (582, 7311), (1528, 1759), (945, 7311), (631, 5385), (762, 4334)}\n",
      "73 {(893, 8625), (1955, 8663), (415, 6407), (103, 8490), (1455, 1048), (1724, 7241), (1955, 7241), (1432, 4183), (1930, 1860), (319, 8215), (917, 1211), (1861, 8625), (734, 3222), (992, 686), (1312, 3714), (367, 8490), (959, 8490), (1447, 2328), (1112, 1651), (1786, 2328), (510, 8490), (1765, 1048), (237, 8490), (463, 8625), (603, 8431), (419, 2328), (1526, 2328), (1756, 981), (266, 8663), (1766, 4183), (719, 5640), (290, 8431), (1087, 7241), (1347, 3714), (1548, 6407), (298, 686), (868, 686), (1979, 3222), (778, 1860), (104, 6407), (895, 8431), (327, 8431), (869, 3714), (516, 5640), (397, 8490), (1369, 3222), (1532, 2328), (1553, 981), (180, 3714), (1154, 1860), (1958, 1048), (1974, 6407), (1142, 4183), (889, 2328), (1261, 2328), (1287, 4183), (1535, 1048), (184, 1667), (343, 2328), (1733, 1048), (1693, 981), (774, 6407)}\n",
      "100 {(616, 3990), (868, 959), (1397, 5995), (1672, 8753), (925, 8818), (1733, 959), (1578, 957), (1896, 1895), (1515, 959), (1781, 5386), (696, 5386), (1888, 3990), (1026, 8818), (1798, 9075), (150, 959), (381, 8818), (853, 9213), (351, 5995), (1984, 1895), (991, 2871), (455, 7306), (126, 705), (1539, 8662), (709, 8662), (1854, 705), (571, 1812), (317, 959), (798, 3990), (1533, 9213), (1014, 9075), (1528, 8753), (1990, 2871), (963, 7306), (1195, 1895), (1609, 2871), (1610, 7306), (1819, 7306), (1796, 8662), (1319, 6608), (1768, 7306), (698, 1895), (529, 4249), (731, 1895), (1572, 1812), (1266, 4249), (315, 6608), (1779, 3990), (1821, 9213), (1761, 1812), (345, 8818), (400, 959), (889, 705), (1215, 2871), (570, 705), (1918, 9075), (1897, 5995), (1783, 6608), (1849, 6608), (1748, 4249), (448, 1895), (1076, 8753), (1211, 4249), (1414, 5386), (523, 8662), (827, 1895), (1275, 5386), (1782, 1895), (514, 959)}\n"
     ]
    }
   ],
   "source": [
    "# Print a few items from adjaceny list\n",
    "for i, (j, v) in enumerate(adj.items()):\n",
    "    print(j, v)\n",
    "    if i > 3:\n",
    "        break"
   ]
  },
  {
   "cell_type": "code",
   "execution_count": 60,
   "metadata": {},
   "outputs": [
    {
     "name": "stdout",
     "output_type": "stream",
     "text": [
      "No cycle detected\n"
     ]
    }
   ],
   "source": [
    "# Check for cycle in the graph\n",
    "\n",
    "def dfs(v, adj, color):\n",
    "    color[v] = 1\n",
    "    for (u, _) in adj[v]:\n",
    "        if color[u] == 0:\n",
    "            if dfs(u, adj, color):\n",
    "                return True\n",
    "        elif color[u] == 1:\n",
    "            print(v)\n",
    "            print((u, _))\n",
    "            return True\n",
    "    color[v] = 2\n",
    "    return False\n",
    "\n",
    "color = dict()\n",
    "for v in adj.keys():\n",
    "    color[v] = 0\n",
    "\n",
    "is_cycle = False\n",
    "\n",
    "for v in adj.keys():\n",
    "    if color[v] == 0:\n",
    "        if dfs(v, adj, color):\n",
    "            is_cycle = True\n",
    "            break\n",
    "\n",
    "if is_cycle: print(\"Cycle detected\")\n",
    "else: print(\"No cycle detected\")"
   ]
  },
  {
   "cell_type": "code",
   "execution_count": 61,
   "metadata": {},
   "outputs": [
    {
     "data": {
      "text/plain": [
       "32.07597541196859"
      ]
     },
     "execution_count": 61,
     "metadata": {},
     "output_type": "execute_result"
    }
   ],
   "source": [
    "1e6 / 31175.981"
   ]
  },
  {
   "cell_type": "code",
   "execution_count": null,
   "metadata": {},
   "outputs": [],
   "source": []
  }
 ],
 "metadata": {
  "kernelspec": {
   "display_name": "course",
   "language": "python",
   "name": "python3"
  },
  "language_info": {
   "codemirror_mode": {
    "name": "ipython",
    "version": 3
   },
   "file_extension": ".py",
   "mimetype": "text/x-python",
   "name": "python",
   "nbconvert_exporter": "python",
   "pygments_lexer": "ipython3",
   "version": "3.10.12"
  }
 },
 "nbformat": 4,
 "nbformat_minor": 2
}
